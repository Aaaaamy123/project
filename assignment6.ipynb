{
 "cells": [
  {
   "cell_type": "raw",
   "metadata": {
    "vscode": {
     "languageId": "raw"
    }
   },
   "source": [
    "---\n",
    "title: STATS 3DA3\n",
    "subtitle: Homework Assignment 6\n",
    "author: \"Ziyue Tang 400448779\"\n",
    "date: 03/21/2025\n",
    "format: pdf\n",
    "header-includes:\n",
    "   - \\usepackage{amsmath}\n",
    "   - \\usepackage{bbm}\n",
    "   - \\usepackage{array}\n",
    "   - \\usepackage{multirow}\n",
    "   - \\usepackage{graphicx}\n",
    "   - \\usepackage{float}\n",
    "   - \\usepackage{apacite}\n",
    "   - \\usepackage{natbib}\n",
    "execute: \n",
    "  echo: true\n",
    "fontsize: 11pt\n",
    "geometry: margin = 1in\n",
    "linestretch: 1.5\n",
    "---"
   ]
  },
  {
   "cell_type": "markdown",
   "metadata": {},
   "source": [
    "Q1"
   ]
  },
  {
   "cell_type": "markdown",
   "metadata": {},
   "source": [
    "The goal is to build a **binary classification model** that predicts whether a patient has **heart disease (1)** or not (0), using clinical data from the **UCI Heart Disease Dataset**. The dataset includes **303 patient records** with **13 features**, such as age, chest pain type, blood pressure, cholesterol levels, and ECG results. The original target variable `num` ranges from 0 to 4, indicating increasing severity of heart disease. For binary classification, it is transformed into `0` (no heart disease) and `1` (presence of heart disease) if `num` > 0.\n",
    "\n",
    "This is a **supervised learning** problem with a mix of numerical and categorical variables. Challenges include **missing values**, **class imbalance**, and the need for **interpretable models** due to the medical context.\n",
    "\n",
    "Accurate prediction can support **early diagnosis** and improve clinical decision-making."
   ]
  },
  {
   "cell_type": "code",
   "execution_count": 3,
   "metadata": {},
   "outputs": [],
   "source": [
    "import pandas as pd"
   ]
  }
 ],
 "metadata": {
  "kernelspec": {
   "display_name": "Python 3",
   "language": "python",
   "name": "python3"
  },
  "language_info": {
   "codemirror_mode": {
    "name": "ipython",
    "version": 3
   },
   "file_extension": ".py",
   "mimetype": "text/x-python",
   "name": "python",
   "nbconvert_exporter": "python",
   "pygments_lexer": "ipython3",
   "version": "3.13.1"
  }
 },
 "nbformat": 4,
 "nbformat_minor": 2
}
