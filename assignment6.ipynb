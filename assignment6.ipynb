{
 "cells": [
  {
   "cell_type": "raw",
   "metadata": {
    "vscode": {
     "languageId": "raw"
    }
   },
   "source": [
    "---\n",
    "title: STATS 3DA3\n",
    "subtitle: Homework Assignment 6\n",
    "author: \"Ziyue Tang 400448779\"\n",
    "date: 03/21/2025\n",
    "format: pdf\n",
    "header-includes:\n",
    "   - \\usepackage{amsmath}\n",
    "   - \\usepackage{bbm}\n",
    "   - \\usepackage{array}\n",
    "   - \\usepackage{multirow}\n",
    "   - \\usepackage{graphicx}\n",
    "   - \\usepackage{float}\n",
    "   - \\usepackage{apacite}\n",
    "   - \\usepackage{natbib}\n",
    "execute: \n",
    "  echo: true\n",
    "fontsize: 11pt\n",
    "geometry: margin = 1in\n",
    "linestretch: 1.5\n",
    "---"
   ]
  },
  {
   "cell_type": "markdown",
   "metadata": {},
   "source": [
    "Q1"
   ]
  },
  {
   "cell_type": "markdown",
   "metadata": {},
   "source": [
    "The goal is to build a **binary classification model** that predicts whether a patient has **heart disease (1)** or not (0), using clinical data from the **UCI Heart Disease Dataset**. The dataset includes **303 patient records** with **13 features**, such as age, chest pain type, blood pressure, cholesterol levels, and ECG results. The original target variable `num` ranges from 0 to 4, indicating increasing severity of heart disease. For binary classification, it is transformed into `0` (no heart disease) and `1` (presence of heart disease) if `num` > 0.\n",
    "\n",
    "This is a **supervised learning** problem with a mix of numerical and categorical variables. Challenges include **missing values**, **class imbalance**, and the need for **interpretable models** due to the medical context.\n",
    "\n",
    "Accurate prediction can support **early diagnosis** and improve clinical decision-making."
   ]
  },
  {
   "cell_type": "markdown",
   "metadata": {},
   "source": [
    "Q2"
   ]
  },
  {
   "cell_type": "code",
   "execution_count": 9,
   "metadata": {},
   "outputs": [
    {
     "name": "stdout",
     "output_type": "stream",
     "text": [
      "\n",
      "Data types:\n",
      "age           int64\n",
      "sex           int64\n",
      "cp            int64\n",
      "trestbps      int64\n",
      "chol          int64\n",
      "fbs           int64\n",
      "restecg       int64\n",
      "thalach       int64\n",
      "exang         int64\n",
      "oldpeak     float64\n",
      "slope         int64\n",
      "ca          float64\n",
      "thal        float64\n",
      "dtype: object\n"
     ]
    }
   ],
   "source": [
    "from ucimlrepo import fetch_ucirepo \n",
    "  \n",
    "# fetch dataset \n",
    "heart_disease = fetch_ucirepo(id=45) \n",
    "  \n",
    "# Convert features and target to standard pandas DataFrames\n",
    "X = heart_disease.data.features.copy()\n",
    "y = heart_disease.data.targets.copy()\n",
    "\n",
    "# Data types\n",
    "print(\"\\nData types:\")\n",
    "print(X.dtypes)"
   ]
  },
  {
   "cell_type": "code",
   "execution_count": 10,
   "metadata": {},
   "outputs": [
    {
     "name": "stdout",
     "output_type": "stream",
     "text": [
      "\n",
      "Data types:\n",
      "age         float64\n",
      "sex           Int64\n",
      "cp            Int64\n",
      "trestbps    float64\n",
      "chol        float64\n",
      "fbs           Int64\n",
      "restecg       Int64\n",
      "thalach     float64\n",
      "exang         Int64\n",
      "oldpeak     float64\n",
      "slope         Int64\n",
      "ca          float64\n",
      "thal          Int64\n",
      "dtype: object\n"
     ]
    }
   ],
   "source": [
    "# 1. Continuous variables → float64 \n",
    "continuous_features = ['age', 'trestbps', 'chol', 'thalach', 'oldpeak']\n",
    "X[continuous_features] = X[continuous_features].astype(float)\n",
    "\n",
    "# 2. Categorical/discrete variables → Int64 \n",
    "categorical_features = ['sex', 'cp', 'fbs', 'restecg', 'exang', 'slope', 'thal']\n",
    "X[categorical_features] = X[categorical_features].astype('Int64')\n",
    "\n",
    "# Data types\n",
    "print(\"\\nData types:\")\n",
    "print(X.dtypes)"
   ]
  },
  {
   "cell_type": "code",
   "execution_count": 11,
   "metadata": {},
   "outputs": [
    {
     "name": "stdout",
     "output_type": "stream",
     "text": [
      "            min    max\n",
      "age        29.0   77.0\n",
      "trestbps   94.0  200.0\n",
      "chol      126.0  564.0\n",
      "thalach    71.0  202.0\n",
      "oldpeak     0.0    6.2\n"
     ]
    }
   ],
   "source": [
    "# Define continuous numerical features \n",
    "numerical_features = ['age', 'trestbps', 'chol', 'thalach', 'oldpeak']\n",
    "\n",
    "# Display min and max for each\n",
    "print(X[numerical_features].agg(['min', 'max']).transpose())"
   ]
  },
  {
   "cell_type": "code",
   "execution_count": 12,
   "metadata": {},
   "outputs": [],
   "source": [
    "from sklearn.preprocessing import StandardScaler\n",
    "\n",
    "# List of numerical features to standardize (excluding 'ca')\n",
    "numerical_features = ['age', 'trestbps', 'chol', 'thalach', 'oldpeak']\n",
    "\n",
    "# Initialize the scaler\n",
    "scaler = StandardScaler()\n",
    "\n",
    "# Apply standardization only to selected numerical features\n",
    "X[numerical_features] = scaler.fit_transform(X[numerical_features])"
   ]
  },
  {
   "cell_type": "markdown",
   "metadata": {},
   "source": [
    "Basic data transformations were applied to prepare the dataset for analysis:\n",
    "\n",
    "- **Variable Type Identification**:  \n",
    "  Based on the official UCI dataset documentation and domain knowledge:\n",
    "  - **Continuous numerical variables**: `age`, `trestbps`, `chol`, `thalach`, and `oldpeak` were treated as numerical, since they are measured on ratio or interval scales with meaningful numeric ranges. The variable `ca` (number of major vessels colored by fluoroscopy) is inherently an integer-valued numerical feature. Since it is already in the correct format, no type conversion is applied.\n",
    "\n",
    "  - **Categorical/discrete variables**: Variables such as `sex`, `cp`, `fbs`, `restecg`, `exang`, `slope`, and `thal` are encoded as integers but represent discrete categories. This classification is supported by the original dataset description. For example, `cp` (chest pain type) ranges from 1 to 4 representing distinct medical conditions, and `thal` represents different thalassemia test results (3 = normal, 6 = fixed defect, 7 = reversible defect).\n",
    "\n",
    "- **Missing Value Identification**:  \n",
    "  The features `ca` and `thal` include missing values, which were parsed as `NaN` using the `ucimlrepo` loader. No imputation or deletion was applied at this stage, as missing value handling is addressed in Question 6.\n",
    "\n",
    "\n",
    "- **Standardization**:  \n",
    "  Standardization was applied to continuous numerical features (`age`, `trestbps`, `chol`, `thalach`, and `oldpeak`) using z-score normalization. The range of `ca` is integer with narrow range so no standadization is implemented. \n",
    "\n",
    "  Even though standardization is **not strictly necessary** for all classification algorithms, it is beneficial for scale-sensitive models such as logistic regression, SVM, and k-NN.  \n",
    "\n",
    "\n",
    "These steps ensured that the dataset was clean, properly typed, and ready for downstream modeling and analysis."
   ]
  }
 ],
 "metadata": {
  "kernelspec": {
   "display_name": "Python 3",
   "language": "python",
   "name": "python3"
  },
  "language_info": {
   "codemirror_mode": {
    "name": "ipython",
    "version": 3
   },
   "file_extension": ".py",
   "mimetype": "text/x-python",
   "name": "python",
   "nbconvert_exporter": "python",
   "pygments_lexer": "ipython3",
   "version": "3.13.1"
  }
 },
 "nbformat": 4,
 "nbformat_minor": 2
}
