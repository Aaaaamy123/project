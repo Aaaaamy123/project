{
 "cells": [
  {
   "cell_type": "raw",
   "metadata": {
    "vscode": {
     "languageId": "raw"
    }
   },
   "source": [
    "---\n",
    "title: STATS 3DA3\n",
    "subtitle: Homework Assignment 6\n",
    "author: \"Ziyue Tang 400448779\"\n",
    "date: 03/21/2025\n",
    "format: pdf\n",
    "header-includes:\n",
    "   - \\usepackage{amsmath}\n",
    "   - \\usepackage{bbm}\n",
    "   - \\usepackage{array}\n",
    "   - \\usepackage{multirow}\n",
    "   - \\usepackage{graphicx}\n",
    "   - \\usepackage{float}\n",
    "   - \\usepackage{apacite}\n",
    "   - \\usepackage{natbib}\n",
    "execute: \n",
    "  echo: true\n",
    "fontsize: 11pt\n",
    "geometry: margin = 1in\n",
    "linestretch: 1.5\n",
    "---"
   ]
  },
  {
   "cell_type": "markdown",
   "metadata": {},
   "source": [
    "Q1"
   ]
  },
  {
   "cell_type": "markdown",
   "metadata": {},
   "source": [
    "The goal is to build a **binary classification model** that predicts whether a patient has **heart disease (1)** or not (0), using clinical data from the **UCI Heart Disease Dataset**. The dataset includes **303 patient records** with **13 features**, such as age, chest pain type, blood pressure, cholesterol levels, and ECG results. The original target variable `num` ranges from 0 to 4, indicating increasing severity of heart disease. For binary classification, it is transformed into `0` (no heart disease) and `1` (presence of heart disease) if `num` > 0.\n",
    "\n",
    "This is a **supervised learning** problem with a mix of numerical and categorical variables. Challenges include **missing values**, **class imbalance**, and the need for **interpretable models** due to the medical context.\n",
    "\n",
    "Accurate prediction can support **early diagnosis** and improve clinical decision-making."
   ]
  },
  {
   "cell_type": "markdown",
   "metadata": {},
   "source": [
    "Q2"
   ]
  },
  {
   "cell_type": "code",
   "execution_count": 47,
   "metadata": {},
   "outputs": [
    {
     "name": "stdout",
     "output_type": "stream",
     "text": [
      "\n",
      "Data types:\n",
      "age           int64\n",
      "sex           int64\n",
      "cp            int64\n",
      "trestbps      int64\n",
      "chol          int64\n",
      "fbs           int64\n",
      "restecg       int64\n",
      "thalach       int64\n",
      "exang         int64\n",
      "oldpeak     float64\n",
      "slope         int64\n",
      "ca          float64\n",
      "thal        float64\n",
      "dtype: object\n"
     ]
    }
   ],
   "source": [
    "from ucimlrepo import fetch_ucirepo \n",
    "  \n",
    "# fetch dataset \n",
    "heart_disease = fetch_ucirepo(id=45) \n",
    "  \n",
    "# Convert features and target to standard pandas DataFrames\n",
    "X = heart_disease.data.features.copy()\n",
    "y = heart_disease.data.targets.copy()\n",
    "\n",
    "# Data types\n",
    "print(\"\\nData types:\")\n",
    "print(X.dtypes)"
   ]
  },
  {
   "cell_type": "code",
   "execution_count": 48,
   "metadata": {},
   "outputs": [
    {
     "name": "stdout",
     "output_type": "stream",
     "text": [
      "\n",
      "Data types:\n",
      "age         float64\n",
      "sex           Int64\n",
      "cp            Int64\n",
      "trestbps    float64\n",
      "chol        float64\n",
      "fbs           Int64\n",
      "restecg       Int64\n",
      "thalach     float64\n",
      "exang         Int64\n",
      "oldpeak     float64\n",
      "slope         Int64\n",
      "ca          float64\n",
      "thal          Int64\n",
      "dtype: object\n"
     ]
    }
   ],
   "source": [
    "# 1. Continuous variables → float64 \n",
    "continuous_features = ['age', 'trestbps', 'chol', 'thalach', 'oldpeak']\n",
    "X[continuous_features] = X[continuous_features].astype(float)\n",
    "\n",
    "# 2. Categorical/discrete variables → Int64 \n",
    "categorical_features = ['sex', 'cp', 'fbs', 'restecg', 'exang', 'slope', 'thal']\n",
    "X[categorical_features] = X[categorical_features].astype('Int64')\n",
    "\n",
    "# Data types\n",
    "print(\"\\nData types:\")\n",
    "print(X.dtypes)"
   ]
  },
  {
   "cell_type": "code",
   "execution_count": 49,
   "metadata": {},
   "outputs": [
    {
     "name": "stdout",
     "output_type": "stream",
     "text": [
      "            min    max\n",
      "age        29.0   77.0\n",
      "trestbps   94.0  200.0\n",
      "chol      126.0  564.0\n",
      "thalach    71.0  202.0\n",
      "oldpeak     0.0    6.2\n"
     ]
    }
   ],
   "source": [
    "# Define continuous numerical features \n",
    "numerical_features = ['age', 'trestbps', 'chol', 'thalach', 'oldpeak']\n",
    "\n",
    "# Display min and max for each\n",
    "print(X[numerical_features].agg(['min', 'max']).transpose())"
   ]
  },
  {
   "cell_type": "code",
   "execution_count": 50,
   "metadata": {},
   "outputs": [],
   "source": [
    "from sklearn.preprocessing import StandardScaler\n",
    "\n",
    "# List of numerical features to standardize (excluding 'ca')\n",
    "numerical_features = ['age', 'trestbps', 'chol', 'thalach', 'oldpeak']\n",
    "\n",
    "# Initialize the scaler\n",
    "scaler = StandardScaler()\n",
    "\n",
    "# Apply standardization only to selected numerical features\n",
    "X[numerical_features] = scaler.fit_transform(X[numerical_features])"
   ]
  },
  {
   "cell_type": "markdown",
   "metadata": {},
   "source": [
    "Basic data transformations were applied to prepare the dataset for analysis:\n",
    "\n",
    "- **Variable Type Identification**:  \n",
    "  Based on the official UCI dataset documentation and domain knowledge:\n",
    "  - **Continuous numerical variables**: `age`, `trestbps`, `chol`, `thalach`, and `oldpeak` were treated as numerical, since they are measured on ratio or interval scales with meaningful numeric ranges. The variable `ca` (number of major vessels colored by fluoroscopy) is inherently an integer-valued numerical feature. Since it is already in the correct format, no type conversion is applied.\n",
    "\n",
    "  - **Categorical/discrete variables**: Variables such as `sex`, `cp`, `fbs`, `restecg`, `exang`, `slope`, and `thal` are encoded as integers but represent discrete categories. This classification is supported by the original dataset description. For example, `cp` (chest pain type) ranges from 1 to 4 representing distinct medical conditions, and `thal` represents different thalassemia test results (3 = normal, 6 = fixed defect, 7 = reversible defect).\n",
    "\n",
    "- **Missing Value Identification**:  \n",
    "  The features `ca` and `thal` include missing values, which were parsed as `NaN` using the `ucimlrepo` loader. No imputation or deletion was applied at this stage, as missing value handling is addressed in Question 6.\n",
    "\n",
    "\n",
    "- **Standardization**:  \n",
    "  Standardization was applied to continuous numerical features (`age`, `trestbps`, `chol`, `thalach`, and `oldpeak`) using z-score normalization. The range of `ca` is integer with narrow range so no standadization is implemented. \n",
    "\n",
    "  Even though standardization is **not strictly necessary** for all classification algorithms, it is beneficial for scale-sensitive models such as logistic regression, SVM, and k-NN.  \n",
    "\n",
    "\n",
    "These steps ensured that the dataset was clean, properly typed, and ready for downstream modeling and analysis."
   ]
  },
  {
   "cell_type": "markdown",
   "metadata": {},
   "source": [
    "Q3"
   ]
  },
  {
   "cell_type": "code",
   "execution_count": 51,
   "metadata": {},
   "outputs": [
    {
     "name": "stdout",
     "output_type": "stream",
     "text": [
      "Number of observations: 303\n",
      "Number of features: 13\n",
      "\n",
      "Data types:\n",
      "age         float64\n",
      "sex           Int64\n",
      "cp            Int64\n",
      "trestbps    float64\n",
      "chol        float64\n",
      "fbs           Int64\n",
      "restecg       Int64\n",
      "thalach     float64\n",
      "exang         Int64\n",
      "oldpeak     float64\n",
      "slope         Int64\n",
      "ca          float64\n",
      "thal          Int64\n",
      "dtype: object\n",
      "Number of observations: 303\n",
      "Number of features: 13\n",
      "\n",
      "Data types:\n",
      "age         float64\n",
      "sex           Int64\n",
      "cp            Int64\n",
      "trestbps    float64\n",
      "chol        float64\n",
      "fbs           Int64\n",
      "restecg       Int64\n",
      "thalach     float64\n",
      "exang         Int64\n",
      "oldpeak     float64\n",
      "slope         Int64\n",
      "ca          float64\n",
      "thal          Int64\n",
      "dtype: object\n",
      "\n",
      "Missing values per column:\n",
      "age         0\n",
      "sex         0\n",
      "cp          0\n",
      "trestbps    0\n",
      "chol        0\n",
      "fbs         0\n",
      "restecg     0\n",
      "thalach     0\n",
      "exang       0\n",
      "oldpeak     0\n",
      "slope       0\n",
      "ca          4\n",
      "thal        2\n",
      "dtype: int64\n",
      "\n",
      "Summary statistics for continuous numerical variables:\n",
      "                age      trestbps          chol       thalach       oldpeak\n",
      "count  3.030000e+02  3.030000e+02  3.030000e+02  3.030000e+02  3.030000e+02\n",
      "mean  -1.465641e-18  4.426236e-16  2.345026e-16 -1.172513e-16  2.345026e-17\n",
      "std    1.001654e+00  1.001654e+00  1.001654e+00  1.001654e+00  1.001654e+00\n",
      "min   -2.819115e+00 -2.145037e+00 -2.334877e+00 -3.442067e+00 -8.968617e-01\n",
      "25%   -7.135564e-01 -6.652997e-01 -6.905030e-01 -7.053073e-01 -8.968617e-01\n",
      "50%    1.729945e-01 -9.616980e-02 -1.101357e-01  1.485618e-01 -2.067053e-01\n",
      "75%    7.270888e-01  4.729601e-01  5.476139e-01  7.178079e-01  4.834512e-01\n",
      "max    2.500191e+00  3.887739e+00  6.138485e+00  2.294182e+00  4.451851e+00\n",
      "\n",
      "Value counts for categorical/discrete variables:\n",
      "\n",
      "sex value counts:\n",
      "sex\n",
      "1    206\n",
      "0     97\n",
      "Name: count, dtype: Int64\n",
      "\n",
      "cp value counts:\n",
      "cp\n",
      "4    144\n",
      "3     86\n",
      "2     50\n",
      "1     23\n",
      "Name: count, dtype: Int64\n",
      "\n",
      "fbs value counts:\n",
      "fbs\n",
      "0    258\n",
      "1     45\n",
      "Name: count, dtype: Int64\n",
      "\n",
      "restecg value counts:\n",
      "restecg\n",
      "0    151\n",
      "2    148\n",
      "1      4\n",
      "Name: count, dtype: Int64\n",
      "\n",
      "exang value counts:\n",
      "exang\n",
      "0    204\n",
      "1     99\n",
      "Name: count, dtype: Int64\n",
      "\n",
      "slope value counts:\n",
      "slope\n",
      "1    142\n",
      "2    140\n",
      "3     21\n",
      "Name: count, dtype: Int64\n",
      "\n",
      "ca value counts:\n",
      "ca\n",
      "0.0    176\n",
      "1.0     65\n",
      "2.0     38\n",
      "3.0     20\n",
      "NaN      4\n",
      "Name: count, dtype: int64\n",
      "\n",
      "thal value counts:\n",
      "thal\n",
      "3       166\n",
      "7       117\n",
      "6        18\n",
      "<NA>      2\n",
      "Name: count, dtype: Int64\n",
      "\n",
      "Missing values per column:\n",
      "age         0\n",
      "sex         0\n",
      "cp          0\n",
      "trestbps    0\n",
      "chol        0\n",
      "fbs         0\n",
      "restecg     0\n",
      "thalach     0\n",
      "exang       0\n",
      "oldpeak     0\n",
      "slope       0\n",
      "ca          4\n",
      "thal        2\n",
      "dtype: int64\n"
     ]
    },
    {
     "data": {
      "image/png": "[encoded data removed]",
      "text/plain": [
       "<Figure size 1200x800 with 6 Axes>"
      ]
     },
     "metadata": {},
     "output_type": "display_data"
    }
   ],
   "source": [
    "import pandas as pd\n",
    "import matplotlib.pyplot as plt\n",
    "\n",
    "# Number of observations and features\n",
    "print(f\"Number of observations: {X.shape[0]}\")\n",
    "print(f\"Number of features: {X.shape[1]}\")\n",
    "\n",
    "# Data types\n",
    "print(\"\\nData types:\")\n",
    "print(X.dtypes)\n",
    "\n",
    "# Separate continuous numerical and categorical/discrete integer variables\n",
    "numerical_features = ['age', 'trestbps', 'chol', 'thalach', 'oldpeak']\n",
    "categorical_features = ['sex', 'cp', 'fbs', 'restecg', 'exang', 'slope', 'ca', 'thal']\n",
    "\n",
    "# 1. Dataset shape\n",
    "print(f\"Number of observations: {X.shape[0]}\")\n",
    "print(f\"Number of features: {X.shape[1]}\")\n",
    "\n",
    "# 2. Data types\n",
    "print(\"\\nData types:\")\n",
    "print(X.dtypes)\n",
    "\n",
    "# 3. Missing values per column\n",
    "print(\"\\nMissing values per column:\")\n",
    "print(X.isnull().sum())\n",
    "\n",
    "# 4. Summary statistics for continuous numerical variables\n",
    "print(\"\\nSummary statistics for continuous numerical variables:\")\n",
    "print(X[numerical_features].describe())\n",
    "\n",
    "# 5. Frequency tables for discrete/categorical variables\n",
    "print(\"\\nValue counts for categorical/discrete variables:\")\n",
    "for col in categorical_features:\n",
    "    print(f\"\\n{col} value counts:\")\n",
    "    print(X[col].value_counts(dropna=False))\n",
    "\n",
    "# Missing values per column\n",
    "print(\"\\nMissing values per column:\")\n",
    "print(X.isnull().sum())\n",
    "\n",
    "# Distribution plots for a few variables\n",
    "numerical_features = ['age', 'trestbps', 'chol', 'thalach', 'oldpeak']\n",
    "X[numerical_features].hist(bins=15, figsize=(12, 8))\n",
    "plt.suptitle(\"Distributions of Continuous Numerical Features (Standardization)\")\n",
    "plt.tight_layout()\n",
    "plt.show()"
   ]
  },
  {
   "cell_type": "markdown",
   "metadata": {},
   "source": [
    "The dataset consists of **303 observations** and **13 features**, representing patient medical information relevant to heart disease diagnosis. The features include both **continuous numerical variables** (e.g., `age`, `chol`, `thalach`) and **discrete or categorical variables** (e.g., `sex`, `cp`, `fbs`, `thal`).\n",
    "\n",
    "**Data Types and Structure:**\n",
    "- Continuous numerical variables: `age`, `trestbps`, `chol`, `thalach`, `oldpeak`\n",
    "- Categorical/discrete variables: `sex`, `cp`, `fbs`, `restecg`, `exang`, `slope`, `ca`, `thal`\n",
    "- All features are stored as either `float64` or `int64` types\n",
    "- Missing values are present in `ca` (4 cases) and `thal` (2 cases)\n",
    "\n",
    "**Summary Statistics:**\n",
    "- After standardization, all continuous numerical features have a mean close to 0 and standard deviation close to 1\n",
    "- `age` ranges from approximately -2.82 to 2.50 (standardized units), corresponding to actual ages from 29 to 77\n",
    "- `oldpeak` (ST depression) ranges from about -0.90 to 4.45 (standardized), indicating variation in exercise-induced abnormalities\n",
    "\n",
    "**Distributions:**\n",
    "- `sex` is imbalanced, with 206 males (1) and 97 females (0)\n",
    "- Most patients do not have fasting blood sugar > 120 (`fbs=0`: 258 cases)\n",
    "- Chest pain types (`cp`) are dominated by type 4 (144 cases), which likely corresponds to asymptomatic pain\n",
    "- `ca` (number of major vessels) is skewed: most patients have 0 vessels colored (176), while very few have 3 (20)\n",
    "\n"
   ]
  },
  {
   "cell_type": "markdown",
   "metadata": {},
   "source": [
    "Q4"
   ]
  },
  {
   "cell_type": "code",
   "execution_count": 52,
   "metadata": {},
   "outputs": [
    {
     "name": "stdout",
     "output_type": "stream",
     "text": [
      "num\n",
      "0    164\n",
      "1    139\n",
      "Name: count, dtype: int64\n"
     ]
    }
   ],
   "source": [
    "# Make a copy of y to avoid modifying the original\n",
    "y_binary = y.copy()\n",
    "\n",
    "# Convert values: 0 → 0 (no heart disease), 1–4 → 1 (has heart disease)\n",
    "y_binary['num'] = y_binary['num'].apply(lambda x: 1 if x > 0 else 0)\n",
    "\n",
    "print(y_binary['num'].value_counts())\n"
   ]
  }
 ],
 "metadata": {
  "kernelspec": {
   "display_name": "Python 3",
   "language": "python",
   "name": "python3"
  },
  "language_info": {
   "codemirror_mode": {
    "name": "ipython",
    "version": 3
   },
   "file_extension": ".py",
   "mimetype": "text/x-python",
   "name": "python",
   "nbconvert_exporter": "python",
   "pygments_lexer": "ipython3",
   "version": "3.13.1"
  }
 },
 "nbformat": 4,
 "nbformat_minor": 2
}
